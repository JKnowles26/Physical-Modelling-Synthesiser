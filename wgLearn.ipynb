{
 "cells": [
  {
   "cell_type": "code",
   "execution_count": 1,
   "metadata": {},
   "outputs": [
    {
     "name": "stderr",
     "output_type": "stream",
     "text": [
      "C:\\Users\\Jacob\\AppData\\Local\\Temp\\ipykernel_10980\\843973217.py:95: WavFileWarning: Chunk (non-data) not understood, skipping it.\n",
      "  samplerate, data = wavfile.read(wav_fname)\n"
     ]
    },
    {
     "data": {
      "text/plain": [
       "[<matplotlib.lines.Line2D at 0x1d1696806d0>]"
      ]
     },
     "execution_count": 1,
     "metadata": {},
     "output_type": "execute_result"
    },
    {
     "data": {
      "image/png": "[encoded data removed]",
      "text/plain": [
       "<Figure size 432x288 with 1 Axes>"
      ]
     },
     "metadata": {
      "needs_background": "light"
     },
     "output_type": "display_data"
    }
   ],
   "source": [
    "import ctcsound\n",
    "from scipy import fftpack as fft\n",
    "import matplotlib.pyplot as plt\n",
    "import os\n",
    "from scipy.io import wavfile\n",
    "import scipy.io\n",
    "#Load waveguide models\n",
    "\n",
    "csd = '''\n",
    "<CsoundSynthesizer>\n",
    "\n",
    "<CsOptions>\n",
    "  -d -o dac -m0\n",
    "</CsOptions>\n",
    "\n",
    "<CsInstruments>\n",
    "sr     = 48000\n",
    "kr     = 4800\n",
    "nchnls = 2\n",
    "0dbfs  = 1\n",
    "          instr 1\n",
    "ifreq     =         p3\n",
    "iamp      =         p4\n",
    "iatt      =         p5\n",
    "isus      =         p6\n",
    "irel      =         p7\n",
    "inType    =         p8\n",
    "inFilt    =         p9\n",
    "ifilt     =         p10\n",
    "ifdbk     =         p11\n",
    "inGain    =         p12\n",
    "ifltr1Tog =         p13\n",
    "ifltr1Cut =         p14\n",
    "inlTog    =         p15\n",
    "inlType   =         p16\n",
    "ifltr2Tog =         p17\n",
    "ifltr2Cut =         p18\n",
    "\n",
    "\n",
    "isec      =         1 / ifreq\n",
    "asec      =         1 / ifreq\n",
    "\n",
    "if (inType == 0) then\n",
    "  a1      noise     iamp, inFilt\n",
    "elseif (inType == 1) then\n",
    "  a1      fractalnoise  iamp, 2\n",
    "elseif (inType == 2) then\n",
    "  a1      oscil     iamp, ifreq\n",
    "endif\n",
    "\n",
    "kenv      madsr     iatt, isec, isus, irel \n",
    "\n",
    "a1        =         a1 * inGain\n",
    "a1        =         a1 * kenv\n",
    "\n",
    "if (ifltr1Tog == 1) then\n",
    "  a1      tone      a1, ifltr1Cut\n",
    "endif\n",
    "\n",
    "a2        delayr    1\n",
    "a3        deltapi   asec\n",
    "a4        tone      a3, ifilt\n",
    "if (inlTog == 1) then\n",
    "  a4      tanh      a4\n",
    "endif\n",
    "          delayw    a1 + (a4 * ifdbk)\n",
    "if (ifltr2Tog == 1) then\n",
    "  a4      tone      a4, ifltr2Cut\n",
    "endif\n",
    "          outs      a4, a4\n",
    "          display a4, 1\n",
    "          endin\n",
    "</CsInstruments>\n",
    "\n",
    "<CsScore>\n",
    "; 1 2 3   4    5   6 7 8 9   10   11    121314  151617\n",
    "i 1 0 440 0.05 0.1 0 0 0 0.3 5000 0.997 1 1 500 1 1 4000\n",
    "i 1 2 550 0.05 0.1 0 0 2 0.3 5000 0.997 1 0 150 0 1`4000\n",
    "e\n",
    "</CsScore>\n",
    "</CsoundSynthesizer>    \n",
    "'''\n",
    "\n",
    "# CODE TO PLAY CSOUND FILE\n",
    "# cs = ctcsound.Csound()  \n",
    "# ret = cs.compileCsdText(csd)\n",
    "# if ret == ctcsound.CSOUND_SUCCESS:\n",
    "#     cs.start()\n",
    "#     cs.perform()\n",
    "#     cs.reset()\n",
    "\n",
    "data_dir = os.path.join(os.getcwd(), 'SoundFiles', 'Strings')\n",
    "wav_fname = os.path.join(data_dir, 'guitarA3Piano.wav')\n",
    "\n",
    "samplerate, data = wavfile.read(wav_fname)\n",
    "\n",
    "plt.plot(data)"
   ]
  }
 ],
 "metadata": {
  "interpreter": {
   "hash": "bf2fc11eda08b5f42486a8cbeb0ff70b75f1a4944ef66bdbc4ec3939abe73a2a"
  },
  "kernelspec": {
   "display_name": "Python 3.10.3 64-bit",
   "language": "python",
   "name": "python3"
  },
  "language_info": {
   "codemirror_mode": {
    "name": "ipython",
    "version": 3
   },
   "file_extension": ".py",
   "mimetype": "text/x-python",
   "name": "python",
   "nbconvert_exporter": "python",
   "pygments_lexer": "ipython3",
   "version": "3.10.3"
  },
  "orig_nbformat": 4
 },
 "nbformat": 4,
 "nbformat_minor": 2
}
